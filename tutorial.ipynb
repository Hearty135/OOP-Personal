{
 "cells": [
  {
   "cell_type": "code",
   "execution_count": 6,
   "id": "e25970e2",
   "metadata": {},
   "outputs": [
    {
     "name": "stdout",
     "output_type": "stream",
     "text": [
      "0\n",
      "500\n"
     ]
    }
   ],
   "source": [
    "class ATM:\n",
    "    def __init__(self,account,account_balance=0):\n",
    "        self.account = account\n",
    "        self.account_balance = account_balance\n",
    "acc = ATM(10000)\n",
    "\n",
    "print(acc.account_balance)\n",
    "\n",
    "acc.account_balance = 500\n",
    "print(acc.account_balance)"
   ]
  },
  {
   "cell_type": "code",
   "execution_count": 9,
   "id": "a8b94d5e",
   "metadata": {},
   "outputs": [
    {
     "name": "stdout",
     "output_type": "stream",
     "text": [
      "200\n",
      "gray\n",
      "the __init__is called\n",
      "300\n",
      "black\n",
      "the __init__is called\n",
      "400\n",
      "forest green\n",
      "the __init__is called\n",
      "400\n",
      "gray\n"
     ]
    }
   ],
   "source": [
    "class Car:\n",
    "    #The _init__method is automatically called when you create a new object\n",
    "    def __init__(self, speed, color):\n",
    "        #These print statements show what values are passed in\n",
    "        print(speed)\n",
    "        print(color)\n",
    "\n",
    "        #store the values inside the object(encapsulation)\n",
    "        self.speed=speed\n",
    "        self.color=color\n",
    "        #show that the constructor ran\n",
    "        print(\"the __init__is called\")\n",
    "\n",
    "#creating objects of the car class\n",
    "ford =Car(200,'gray')\n",
    "audi =Car(300, 'black')\n",
    "toyota =Car(400,'forest green')\n",
    "\n",
    "ford.speed=400\n",
    "\n",
    "#accessing the attributes of the object\n",
    "print(ford.speed)\n",
    "print(ford.color)"
   ]
  },
  {
   "cell_type": "code",
   "execution_count": 10,
   "id": "e8e03387",
   "metadata": {},
   "outputs": [
    {
     "name": "stdout",
     "output_type": "stream",
     "text": [
      "10\n",
      "20\n"
     ]
    },
    {
     "ename": "AttributeError",
     "evalue": "'Hello' object has no attribute '__c'",
     "output_type": "error",
     "traceback": [
      "\u001b[31m---------------------------------------------------------------------------\u001b[39m",
      "\u001b[31mAttributeError\u001b[39m                            Traceback (most recent call last)",
      "\u001b[36mCell\u001b[39m\u001b[36m \u001b[39m\u001b[32mIn[10]\u001b[39m\u001b[32m, line 10\u001b[39m\n\u001b[32m      8\u001b[39m \u001b[38;5;28mprint\u001b[39m(hello.a)\n\u001b[32m      9\u001b[39m \u001b[38;5;28mprint\u001b[39m(hello._b)\n\u001b[32m---> \u001b[39m\u001b[32m10\u001b[39m \u001b[38;5;28mprint\u001b[39m(\u001b[43mhello\u001b[49m\u001b[43m.\u001b[49m\u001b[43m__c\u001b[49m)\n",
      "\u001b[31mAttributeError\u001b[39m: 'Hello' object has no attribute '__c'"
     ]
    }
   ],
   "source": [
    "class Hello:\n",
    "    def __init__(self, name):\n",
    "        self.a = 10\n",
    "        self._b = 20\n",
    "        self.__c = 30\n",
    "\n",
    "hello =Hello(\"name\")\n",
    "print(hello.a)\n",
    "print(hello._b)\n",
    "print(hello.__c)"
   ]
  }
 ],
 "metadata": {
  "kernelspec": {
   "display_name": ".venv",
   "language": "python",
   "name": "python3"
  },
  "language_info": {
   "codemirror_mode": {
    "name": "ipython",
    "version": 3
   },
   "file_extension": ".py",
   "mimetype": "text/x-python",
   "name": "python",
   "nbconvert_exporter": "python",
   "pygments_lexer": "ipython3",
   "version": "3.12.6"
  }
 },
 "nbformat": 4,
 "nbformat_minor": 5
}
