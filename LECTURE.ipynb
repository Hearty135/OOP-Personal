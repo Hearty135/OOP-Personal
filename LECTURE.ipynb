{
 "cells": [
  {
   "cell_type": "code",
   "execution_count": null,
   "metadata": {},
   "outputs": [],
   "source": [
    "POLYMORPHISM AND INHERITANCE"
   ]
  },
  {
   "cell_type": "code",
   "execution_count": 2,
   "metadata": {},
   "outputs": [
    {
     "name": "stdout",
     "output_type": "stream",
     "text": [
      "Phone has started\n",
      "Laptop is starting\n",
      "Smart phone is connected!\n",
      "Take Photo\n",
      "Connected to wifi\n",
      "Smartprinter has started\n",
      "Connected to wifi\n"
     ]
    }
   ],
   "source": [
    "class Gadget:\n",
    "    def start(self):\n",
    "        print(\"Gadget started\")\n",
    "\n",
    "class Phone(Gadget):\n",
    "    def start(self):\n",
    "        print(\"Phone has started\")\n",
    "\n",
    "class Laptop(Gadget):\n",
    "    def start(self):\n",
    "        print(\"Laptop is starting\")\n",
    "\n",
    "gadgets=[Phone(), Laptop()]\n",
    "\n",
    "for gadget in gadgets:\n",
    "    gadget.start()\n",
    "\n",
    "class Camera:\n",
    "    def take_photo (self):\n",
    "        print(\"Take Photo\")\n",
    "\n",
    "class WifiEnabled:\n",
    "    def connect_wifi(self):\n",
    "        print(\"Connected to wifi\")\n",
    "\n",
    "class Smartphone(Camera,WifiEnabled,Phone):\n",
    "    def start(self):\n",
    "        print(\"Smart phone is connected!\")\n",
    "\n",
    "class Smartprinter(Gadget, WifiEnabled):\n",
    "    def start(self):\n",
    "        print(\"Smartprinter has started\")\n",
    "\n",
    "devices =[Smartphone(), Smartprinter()]\n",
    "\n",
    "for device in devices:\n",
    "    device.start()\n",
    "    if isinstance(device, Camera):\n",
    "        device.take_photo()\n",
    "    if isinstance(device, WifiEnabled):\n",
    "        device.connect_wifi()\n"
   ]
  },
  {
   "cell_type": "code",
   "execution_count": 1,
   "metadata": {},
   "outputs": [
    {
     "name": "stdout",
     "output_type": "stream",
     "text": [
      "Hello from Rolinah\n"
     ]
    }
   ],
   "source": [
    "class Faith:\n",
    "    def greet(self):\n",
    "        return \"Hello from Faith\"\n",
    "\n",
    "class Rolinah(Faith):\n",
    "    def greet(self):\n",
    "        return \"Hello from Rolinah\"\n",
    "\n",
    "class Hearty(Faith):\n",
    "    def greet(self):\n",
    "        return \"Hello from Hearty\"\n",
    "\n",
    "class Nicole(Rolinah, Hearty):\n",
    "    pass\n",
    "\n",
    "d = Nicole()\n",
    "print(d.greet())"
   ]
  },
  {
   "cell_type": "markdown",
   "metadata": {},
   "source": [
    "INHERITANCE"
   ]
  },
  {
   "cell_type": "code",
   "execution_count": null,
   "metadata": {},
   "outputs": [],
   "source": [
    "class Person:\n",
    "    def __init__(self, name):\n",
    "           self.name=name\n",
    "\n",
    "    def intro(self):\n",
    "      return f\"Hi,my name is {self.name}\"\n",
    "    \n",
    "\n",
    "\n",
    "class Student(Person):\n",
    "    def __init__(self,name,program):\n",
    "        super().__init__(name)\n",
    "        self.program = program\n",
    "\n",
    "    def intro(self):\n",
    "        return super().intro()+f\", and my program is {self.program}\"\n",
    "\n",
    "class Lecturer(Person):\n",
    "     def __init__(self,name,department):\n",
    "          super().__init__(name)\n",
    "          self.department=department\n",
    "\n",
    "     def intro(self):\n",
    "      return super().intro()+f\", and i work in the {self.department} department\"\n",
    "\n",
    "p =Person(\"Mark\")\n",
    "s =Student(\"Martha\",\"BSIT\",2)\n",
    "l =Lecturer(\"Noah\",\"Data Science\")\n",
    "\n",
    "print(p.intro())\n",
    "print(s.intro())\n",
    "print(l.intro())\n"
   ]
  },
  {
   "cell_type": "markdown",
   "metadata": {},
   "source": [
    "ENCAPSULATION"
   ]
  },
  {
   "cell_type": "code",
   "execution_count": null,
   "metadata": {},
   "outputs": [],
   "source": [
    "class Student:\n",
    "  def __init__(self, name):\n",
    "     self.name = name      #public\n",
    "     self._gpa = 3.5       #protected\n",
    "     self.__password = \"1234\"   #private\n",
    "\n",
    "student = Student(\"Zakaria John\")\n",
    "print(student.name)\n",
    "print(student._gpa)\n",
    "print(student.__password)\n",
    "\n",
    "student.name =\"Mercy\"\n",
    "print(student.name)\n",
    "\n",
    "coins = 100\n",
    "coins2= 500+100\n",
    "print (coins2)\n",
    "\n",
    "class Piggybank:\n",
    "    def __init__(self,coins):\n",
    "        self._coins=coins\n",
    "        self.put_in(coins)\n",
    "\n",
    "    def put_in(self, amount):\n",
    "       if amount <= 0:\n",
    "           raise ValueError(\"Add real money\")\n",
    "           self._coins += amount\n",
    "\n",
    "    def take_out(self, amount):\n",
    "       if amount <=0:\n",
    "           raise ValueError(\"Be for real\")\n",
    "       if amount > self.coins:\n",
    "           raise ValueError(\"Money has come\")\n",
    "           self._coins -= amount\n",
    "    \n",
    "    def how_much(self):\n",
    "        return self._coins\n",
    "\n",
    "Margie= Piggybank(1000000)\n",
    "Margie.put_in(3000)\n",
    "print(\"Margie's box has:\",Margie.how_much(),\"coins\")\n",
    "\n"
   ]
  },
  {
   "cell_type": "markdown",
   "metadata": {},
   "source": [
    "1ST LECTURE"
   ]
  },
  {
   "cell_type": "code",
   "execution_count": null,
   "metadata": {},
   "outputs": [],
   "source": [
    "class Resident:\n",
    "    def _init_(self, name, room_no):\n",
    "        self.name = name\n",
    "        self.room_no = room_no\n",
    "\n",
    "class Visitor:\n",
    "    def _init_(self, name, visitorID,Room_no, Phone_no,Time):\n",
    "        self.name = name\n",
    "        self.visitorID = visitorID\n",
    "        self.Room_no = Room_no\n",
    "        self.Phone_no = Phone_no\n",
    "        self.Time = Time\n",
    "\n",
    "class Hostel:\n",
    "    def _init_(self, name, Room_no):\n",
    "        self.name = name\n",
    "        self.Room_no = Room_no\n",
    "\n",
    "class Resident:\n",
    "    def _init_(self, name, room_no):\n",
    "        self.name = name\n",
    "        self.room_no = room_no\n",
    "\n",
    "class Visitor:\n",
    "    def _init_(self, name, visitorID,Room_no, Phone_no,Time):\n",
    "        self.name = name\n",
    "        self.visitorID = visitorID\n",
    "        self.Room_no = Room_no\n",
    "        self.Phone_no = Phone_no\n",
    "        self.Time = Time\n",
    "\n",
    "class Hostel:\n",
    "    def _init_(self, name, Room_no):\n",
    "        self.name = name\n",
    "        self.Room_no = Room_no\n",
    "\n"
   ]
  }
 ],
 "metadata": {
  "kernelspec": {
   "display_name": ".venv",
   "language": "python",
   "name": "python3"
  },
  "language_info": {
   "codemirror_mode": {
    "name": "ipython",
    "version": 3
   },
   "file_extension": ".py",
   "mimetype": "text/x-python",
   "name": "python",
   "nbconvert_exporter": "python",
   "pygments_lexer": "ipython3",
   "version": "3.12.6"
  }
 },
 "nbformat": 4,
 "nbformat_minor": 2
}
